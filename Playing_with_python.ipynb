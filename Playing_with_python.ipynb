{
 "cells": [
  {
   "cell_type": "code",
   "execution_count": null,
   "metadata": {},
   "outputs": [],
   "source": [
    "if 5 > 3:\n",
    "    print(\"Five is greater than two!\")"
   ]
  },
  {
   "cell_type": "code",
   "execution_count": null,
   "metadata": {},
   "outputs": [],
   "source": [
    "if 4 > 2: \n",
    "    print(\"Four is greater than two\") \n",
    "    print(\"Yes\")"
   ]
  },
  {
   "cell_type": "code",
   "execution_count": null,
   "metadata": {},
   "outputs": [],
   "source": [
    "x = 5\n",
    "y = \"Hello World\"\n",
    "print(x)\n",
    "print(y)"
   ]
  },
  {
   "cell_type": "code",
   "execution_count": null,
   "metadata": {},
   "outputs": [],
   "source": [
    "#This is a comment.\n",
    "print(\"Hello world\")"
   ]
  },
  {
   "cell_type": "code",
   "execution_count": null,
   "metadata": {},
   "outputs": [],
   "source": [
    "\"\"\"\n",
    "This is a sample\n",
    "\"\"\"\n",
    "x = 4 # x is of type int\n",
    "x = \"Taiwo\" # x is now of type str\n",
    "print(x)"
   ]
  },
  {
   "cell_type": "code",
   "execution_count": 1,
   "metadata": {},
   "outputs": [
    {
     "name": "stdout",
     "output_type": "stream",
     "text": [
      "John\n",
      "36\n"
     ]
    }
   ],
   "source": [
    "x = dict(name=\"John\", age=36)\n",
    "print(x.get(\"name\"))\n",
    "print(x.get(\"age\"))"
   ]
  },
  {
   "cell_type": "code",
   "execution_count": null,
   "metadata": {},
   "outputs": [],
   "source": [
    "x = str(3) # x wil be '3'\n",
    "y = int(3) # y will be 3\n",
    "z = float(3) # z will be 3.0\n",
    "print(type(z))"
   ]
  },
  {
   "cell_type": "code",
   "execution_count": null,
   "metadata": {},
   "outputs": [],
   "source": [
    "x = 5\n",
    "y = 'John' or \"John\"\n",
    "print(type(x))\n",
    "print(type(y))"
   ]
  },
  {
   "cell_type": "code",
   "execution_count": 42,
   "metadata": {},
   "outputs": [
    {
     "name": "stdout",
     "output_type": "stream",
     "text": [
      "Yes\n",
      "No\n",
      "Maybe\n"
     ]
    }
   ],
   "source": [
    "x, y, z = \"Yes\", \"No\", \"Maybe\"\n",
    "print(x)\n",
    "print(y)\n",
    "print(z)"
   ]
  },
  {
   "cell_type": "code",
   "execution_count": 43,
   "metadata": {},
   "outputs": [
    {
     "name": "stdout",
     "output_type": "stream",
     "text": [
      "Yes Yes Yes\n"
     ]
    }
   ],
   "source": [
    "x = y = z = \"Yes\"\n",
    "print(x,y,z)"
   ]
  },
  {
   "cell_type": "code",
   "execution_count": null,
   "metadata": {},
   "outputs": [],
   "source": [
    "fruits = [\"red\",\"blue\",\"yellow\"]\n",
    "x,y,z = fruits\n",
    "print(x,y,z)"
   ]
  },
  {
   "cell_type": "code",
   "execution_count": null,
   "metadata": {},
   "outputs": [],
   "source": [
    "x = \"Yes\"\n",
    "def myfunc(): \n",
    "    print(\"I said \" + x)\n",
    "myfunc()"
   ]
  },
  {
   "cell_type": "code",
   "execution_count": null,
   "metadata": {},
   "outputs": [],
   "source": [
    "x = \"Yes\" \n",
    "def myfunc(): \n",
    "    x = \"Red\" \n",
    "    print(\"It is \" + x)\n",
    "myfunc()\n",
    "print(\"It is \" + x)"
   ]
  },
  {
   "cell_type": "code",
   "execution_count": null,
   "metadata": {},
   "outputs": [],
   "source": [
    "def myfunc():\n",
    "    global x \n",
    "    x = \"Yes\"\n",
    "myfunc()\n",
    "\n",
    "print(\"It is \" + x)"
   ]
  },
  {
   "cell_type": "code",
   "execution_count": null,
   "metadata": {},
   "outputs": [],
   "source": [
    "x = \"Yes\"\n",
    "def myfunc():\n",
    "    global x\n",
    "    x = \"Red\"\n",
    "myfunc()\n",
    "print(\"It is \" + x)"
   ]
  },
  {
   "cell_type": "code",
   "execution_count": 20,
   "metadata": {},
   "outputs": [
    {
     "name": "stdout",
     "output_type": "stream",
     "text": [
      "5.0 5 (5+0j)\n",
      "9\n"
     ]
    }
   ],
   "source": [
    "x = 5\n",
    "y = 5.5\n",
    "z = 5\n",
    "l = \"It is red\"\n",
    "print(float(x), (int(y)), complex(z))\n",
    "print(len(l))"
   ]
  },
  {
   "cell_type": "code",
   "execution_count": 1,
   "metadata": {},
   "outputs": [
    {
     "name": "stdout",
     "output_type": "stream",
     "text": [
      "<class 'memoryview'>\n",
      "<memory at 0x000001B6BF899840>\n"
     ]
    }
   ],
   "source": [
    "x = memoryview(bytes(5))\n",
    "print(type(x))\n",
    "print(x)"
   ]
  },
  {
   "cell_type": "code",
   "execution_count": null,
   "metadata": {},
   "outputs": [],
   "source": [
    "x = dict(name = \"Taiwo\", age=30)\n",
    "print(x)\n",
    "print(type(x))"
   ]
  },
  {
   "cell_type": "code",
   "execution_count": null,
   "metadata": {},
   "outputs": [],
   "source": [
    "x = 35e3\n",
    "y = 12E4\n",
    "z = -87.7e100\n",
    "print(type(x))\n",
    "print(type(z))\n",
    "print(type(y))"
   ]
  },
  {
   "cell_type": "code",
   "execution_count": 10,
   "metadata": {},
   "outputs": [
    {
     "name": "stdout",
     "output_type": "stream",
     "text": [
      "<class 'complex'>\n",
      "(3+5j)\n",
      "(3+5j)\n"
     ]
    }
   ],
   "source": [
    "x = 3+5j # To print a complex number\n",
    "print(type(x))\n",
    "print(x)\n",
    "j = 100\n",
    "print(complex(x))"
   ]
  },
  {
   "cell_type": "code",
   "execution_count": null,
   "metadata": {},
   "outputs": [],
   "source": [
    "x = 1\n",
    "y = 2.8\n",
    "z = 1j\n",
    "print(float(x))\n",
    "b = int(y)\n",
    "print(b)"
   ]
  },
  {
   "cell_type": "code",
   "execution_count": null,
   "metadata": {},
   "outputs": [],
   "source": [
    "import random\n",
    "print(random.randrange(1,10))"
   ]
  },
  {
   "cell_type": "code",
   "execution_count": null,
   "metadata": {},
   "outputs": [],
   "source": [
    "float(4.2)"
   ]
  },
  {
   "cell_type": "code",
   "execution_count": null,
   "metadata": {},
   "outputs": [],
   "source": [
    "a = \"Helloworld\"\n",
    "print(a[0])"
   ]
  },
  {
   "cell_type": "code",
   "execution_count": 1,
   "metadata": {},
   "outputs": [
    {
     "name": "stdout",
     "output_type": "stream",
     "text": [
      "6\n",
      "b\n",
      "6\n",
      "a\n",
      "6\n",
      "n\n",
      "6\n",
      "a\n",
      "6\n",
      "n\n",
      "6\n",
      "a\n"
     ]
    }
   ],
   "source": [
    "for x in \"banana\":\n",
    "    def myfunc():\n",
    "        y = \"banana\"\n",
    "        print(len(y))\n",
    "    myfunc()\n",
    "    print(x)\n",
    "    "
   ]
  },
  {
   "cell_type": "code",
   "execution_count": 3,
   "metadata": {},
   "outputs": [
    {
     "name": "stdout",
     "output_type": "stream",
     "text": [
      "True\n"
     ]
    }
   ],
   "source": [
    "txt = \"God is Great\"\n",
    "print(\"God\" in txt)"
   ]
  },
  {
   "cell_type": "code",
   "execution_count": null,
   "metadata": {},
   "outputs": [],
   "source": [
    "txt = \"God is Great\"\n",
    "if \"God\" in txt:  \n",
    "    print(\"Yes, 'God' is present.\")"
   ]
  },
  {
   "cell_type": "code",
   "execution_count": null,
   "metadata": {},
   "outputs": [],
   "source": [
    "txt = \"God is Great\"\n",
    "if \"God\" not in txt:  \n",
    " print(\"No, 'God' is not present.\")"
   ]
  },
  {
   "cell_type": "code",
   "execution_count": null,
   "metadata": {},
   "outputs": [],
   "source": [
    "a = 33\n",
    "b = 33\n",
    "if b > a:\n",
    "  print(\"b is greater than a\")\n",
    "elif a == b:\n",
    "  print(\"a and b are equal\")"
   ]
  },
  {
   "cell_type": "code",
   "execution_count": null,
   "metadata": {},
   "outputs": [],
   "source": [
    "a = 33\n",
    "b = 200\n",
    "if b == a:\n",
    "    print(\"No\") \n",
    "elif b != a:\n",
    "    print(\"Yes\")"
   ]
  },
  {
   "cell_type": "code",
   "execution_count": null,
   "metadata": {},
   "outputs": [],
   "source": [
    "a = \"God is great\"\n",
    "b = \"Devil is a liar\"\n",
    "if \"God\" in a:\n",
    "    print(\"Yes\")\n",
    "elif \"God\" not in b:\n",
    "    print(\"No\")"
   ]
  },
  {
   "cell_type": "code",
   "execution_count": null,
   "metadata": {},
   "outputs": [],
   "source": [
    "from operator import eq\n",
    "\n",
    "\n",
    "a = 6\n",
    "b = 7\n",
    "X = a + b\n",
    "if X < a:\n",
    "    print(\"Yes\") \n",
    "elif a > b: \n",
    "    print(\"No\") \n",
    "else:\n",
    "    print(\"The calcuation is correct\")"
   ]
  },
  {
   "cell_type": "code",
   "execution_count": null,
   "metadata": {},
   "outputs": [],
   "source": [
    "from operator import eq\n",
    "a = 6 \n",
    "b = 7 \n",
    "X = a + b \n",
    "if X > b: \n",
    "    print(\"I am here\")\n",
    "elif X < a: \n",
    "    print(\"I am not here\") \n",
    "else: \n",
    "    print(\"God is great\")\n",
    "    "
   ]
  },
  {
   "cell_type": "code",
   "execution_count": null,
   "metadata": {},
   "outputs": [],
   "source": [
    "a = 100\n",
    "b = 200\n",
    "print(\"Yes\") if a < b else print(\"No\")"
   ]
  },
  {
   "cell_type": "code",
   "execution_count": null,
   "metadata": {},
   "outputs": [],
   "source": [
    "a = 6\n",
    "b = 5\n",
    "if a != b or b == a: \n",
    "    print(\"Yes\") \n",
    "else: \n",
    "    print(\"No\")"
   ]
  },
  {
   "cell_type": "code",
   "execution_count": null,
   "metadata": {},
   "outputs": [],
   "source": [
    "y = 41\n",
    "if y != 10: \n",
    "    print(\"Yes\") \n",
    "    if y < 10: \n",
    "        print(\"No\") \n",
    "    elif y != 3: \n",
    "        print(\"Not there\")"
   ]
  },
  {
   "cell_type": "code",
   "execution_count": null,
   "metadata": {},
   "outputs": [],
   "source": [
    "a = 6\n",
    "b = 5\n",
    "x = a + b\n",
    "if x == b: \n",
    "    pass \n",
    "else: \n",
    "    print(\"Yes\")\n",
    "\n"
   ]
  },
  {
   "cell_type": "code",
   "execution_count": null,
   "metadata": {},
   "outputs": [],
   "source": [
    "a = 9\n",
    "b = 7\n",
    "x = a - b\n",
    "if x ==b:\n",
    "    pass \n",
    "else:\n",
    "    print(\"I am here\")"
   ]
  },
  {
   "cell_type": "code",
   "execution_count": 4,
   "metadata": {},
   "outputs": [
    {
     "name": "stdout",
     "output_type": "stream",
     "text": [
      "Taiwo's Joy, \n",
      "I am here for you\n",
      "I am Okay!\n"
     ]
    }
   ],
   "source": [
    "message = \"\"\"Taiwo\\'s World, \n",
    "I am here for you\"\"\"\n",
    "\n",
    "message = message.replace(\"World\", \"Joy\")\n",
    "print(message)\n",
    "\n",
    "\n",
    "Y = \"I am good\"\n",
    "Y = Y.replace(\"good\", \"Okay!\")\n",
    "print(Y)\n",
    "\n",
    "#print(message[:5])\n",
    "\n",
    "\n",
    "\n"
   ]
  },
  {
   "cell_type": "code",
   "execution_count": null,
   "metadata": {},
   "outputs": [],
   "source": [
    "greetings = \"Hello\"\n",
    "name = \"Taiwo\"\n",
    "extra = \"Welcome!\"\n",
    "message = f\"{greetings.lower()}, {name.upper()}. {extra}\"\n",
    "print(message)\n",
    "print(dir(name))\n",
    "\n",
    "print(help(str.upper))"
   ]
  },
  {
   "cell_type": "code",
   "execution_count": null,
   "metadata": {},
   "outputs": [],
   "source": [
    "print(5 // (1 ** 3))"
   ]
  },
  {
   "cell_type": "code",
   "execution_count": 1,
   "metadata": {},
   "outputs": [
    {
     "name": "stdout",
     "output_type": "stream",
     "text": [
      "300\n"
     ]
    }
   ],
   "source": [
    "num_1 = '100'\n",
    "num_2 = '200'\n",
    "\n",
    "num_1 = int(num_1)\n",
    "num_2 = int(num_2)\n",
    "\n",
    "print(num_1 + num_2)"
   ]
  },
  {
   "cell_type": "code",
   "execution_count": 45,
   "metadata": {},
   "outputs": [
    {
     "name": "stdout",
     "output_type": "stream",
     "text": [
      "['apple', 'banana', 'cherry']\n",
      "<class 'list'>\n"
     ]
    }
   ],
   "source": [
    "# x = tuple((\"apple\", \"banana\", \"cherry\"))\n",
    "# or\n",
    "# x = (\"apple\", \"banana\", \"cherry\")\n",
    "# x = x.replace(\"apple\", \"Joy\")\n",
    "# print(x)\n",
    "# print(type(x))    # AttributeError: 'tuple' object has no attribute 'replace'\n",
    "\n",
    "\n",
    "# Y = list((\"apple\", \"banana\", \"cherry\"))\n",
    "# or\n",
    "Y = [\"apple\", \"banana\", \"cherry\"]\n",
    "#Y = Y.replace(\"apple\", \"yes\")\n",
    "print(Y)\n",
    "print(type(Y))"
   ]
  },
  {
   "cell_type": "code",
   "execution_count": 6,
   "metadata": {},
   "outputs": [
    {
     "name": "stdout",
     "output_type": "stream",
     "text": [
      "('Ashley', 93)\n",
      "('Brad', 95)\n",
      "('Cassie', 84)\n",
      "(0, 'a')\n",
      "(1, 'b')\n",
      "(2, 'c')\n",
      "(3, 'd')\n"
     ]
    }
   ],
   "source": [
    "grades = [(\"Ashley\", 93), (\"Brad\", 95), (\"Cassie\", 84)]\n",
    "for entry in grades:\n",
    "    print(entry)\n",
    "\n",
    "# for name, grade in grades:\n",
    "#     print(name)\n",
    "#     print(grade)\n",
    "#     print(\"\\n\")\n",
    "\n",
    "#for entry in enumerate(\"abcd\"):\n",
    "    #print(entry)\n",
    "\n",
    "for id in enumerate(\"abcd\"):\n",
    "    print(id)"
   ]
  },
  {
   "cell_type": "code",
   "execution_count": 5,
   "metadata": {},
   "outputs": [
    {
     "name": "stdout",
     "output_type": "stream",
     "text": [
      "sorted!\n"
     ]
    }
   ],
   "source": [
    "my_list = [0, 1, -10, 2]\n",
    "unsorted_index = None\n",
    "current_num = 1\n",
    "prev_num = 0\n",
    "\n",
    "for index, current_num in enumerate(my_list):\n",
    "    if not index == 0:\n",
    "        prev_num != current_num\n",
    "    elif prev_num < current_num:\n",
    "        unsorted_index != index\n",
    "        break\n",
    "    prev_num = current_num\n",
    "else:\n",
    "    print(\"sorted!\")"
   ]
  },
  {
   "cell_type": "code",
   "execution_count": 48,
   "metadata": {},
   "outputs": [
    {
     "name": "stdout",
     "output_type": "stream",
     "text": [
      "0b10000010110001110\n"
     ]
    }
   ],
   "source": [
    "a = 66958\n",
    "print(bin(a))"
   ]
  },
  {
   "cell_type": "code",
   "execution_count": 1,
   "metadata": {},
   "outputs": [
    {
     "data": {
      "text/plain": [
       "2"
      ]
     },
     "execution_count": 1,
     "metadata": {},
     "output_type": "execute_result"
    }
   ],
   "source": [
    "x = 1\n",
    "eval('x+1')\n"
   ]
  },
  {
   "cell_type": "code",
   "execution_count": 81,
   "metadata": {},
   "outputs": [
    {
     "data": {
      "text/plain": [
       "(6,)"
      ]
     },
     "execution_count": 81,
     "metadata": {},
     "output_type": "execute_result"
    }
   ],
   "source": [
    "# a = \"hello world\"\n",
    "# a.capitalize()\n",
    "\n",
    "\n",
    "import numpy as np\n",
    "array = np.array([0, 1, 2, 3, 4, 5])\n",
    "array.sum()\n",
    "\n",
    "array.ndim\n",
    "\n",
    "array.shape"
   ]
  },
  {
   "cell_type": "code",
   "execution_count": 13,
   "metadata": {},
   "outputs": [
    {
     "name": "stdout",
     "output_type": "stream",
     "text": [
      "<bound method Rectangle.compute_area of <__main__.Rectangle object at 0x7f12f82412d0>>\n"
     ]
    }
   ],
   "source": [
    "class Rectangle:\n",
    "\n",
    "    def _init_(self, width, height, center=(0.0, 0.0)):\n",
    "        \n",
    "        self.width = width\n",
    "        self.height = height\n",
    "        self.center = center\n",
    "        \n",
    "        \n",
    "    def _repr_(self):\n",
    "        return \"Rectangle(width={w}, height={h}, center={c})\".format(h=self.height,\n",
    "                                                                    w=self.width,\n",
    "                                                                    c=self.center)\n",
    "                                            \n",
    "    def compute_area(self):\n",
    "            return self.width * self.height\n",
    "\n",
    "\n",
    "    def compute_corners(self):\n",
    "\n",
    "        cx, cy = self.center\n",
    "        dx = self.width / 2.0\n",
    "        dy = self.height / 2.0\n",
    "        return [(cx + x, cy + y) for x,y in ((dx, dy), (dx, -dy), (-dx, dy), (-dx, dy))]\n",
    "\n",
    "test = Rectangle()\n",
    "print(test.compute_area)"
   ]
  },
  {
   "cell_type": "code",
   "execution_count": 12,
   "metadata": {},
   "outputs": [
    {
     "ename": "TypeError",
     "evalue": "Rectangle() takes no arguments",
     "output_type": "error",
     "traceback": [
      "\u001b[0;31m---------------------------------------------------------------------------\u001b[0m",
      "\u001b[0;31mTypeError\u001b[0m                                 Traceback (most recent call last)",
      "Cell \u001b[0;32mIn[12], line 3\u001b[0m\n\u001b[1;32m      1\u001b[0m \u001b[39m# create a rectangle of width 4, height 10, centered at (0, 0)\u001b[39;00m\n\u001b[1;32m      2\u001b[0m \u001b[39m# here __init__ is executed and the width/height/center attributes are set\u001b[39;00m\n\u001b[0;32m----> 3\u001b[0m rect1 \u001b[39m=\u001b[39m Rectangle(\u001b[39m4\u001b[39;49m, \u001b[39m10\u001b[39;49m)\n",
      "\u001b[0;31mTypeError\u001b[0m: Rectangle() takes no arguments"
     ]
    }
   ],
   "source": [
    "# create a rectangle of width 4, height 10, centered at (0, 0)\n",
    "# here __init__ is executed and the width/height/center attributes are set\n",
    "rect1 = Rectangle(4, 10)\n",
    "\n"
   ]
  },
  {
   "cell_type": "code",
   "execution_count": 96,
   "metadata": {},
   "outputs": [],
   "source": [
    "import os\n",
    "# print(os.environ)\n",
    "\n",
    "os.environ.get(\"\")"
   ]
  },
  {
   "cell_type": "code",
   "execution_count": 102,
   "metadata": {},
   "outputs": [
    {
     "name": "stdout",
     "output_type": "stream",
     "text": [
      "apple\n",
      "banana\n",
      "cherry\n"
     ]
    }
   ],
   "source": [
    "# Return an iterator from a tuple, and print each value:\n",
    "\n",
    "mytuple = (\"apple\", \"banana\", \"cherry\")\n",
    "myit = iter(mytuple)\n",
    "\n",
    "print(next(myit))\n",
    "print(next(myit))\n",
    "print(next(myit))"
   ]
  },
  {
   "cell_type": "code",
   "execution_count": 103,
   "metadata": {},
   "outputs": [
    {
     "name": "stdout",
     "output_type": "stream",
     "text": [
      "b\n",
      "a\n",
      "n\n",
      "a\n",
      "n\n",
      "a\n"
     ]
    }
   ],
   "source": [
    "# Strings are also iterable objects, containing a sequence of characters:\n",
    "\n",
    "mystr = \"banana\"\n",
    "myit = iter(mystr)\n",
    "\n",
    "print(next(myit))\n",
    "print(next(myit))\n",
    "print(next(myit))\n",
    "print(next(myit))\n",
    "print(next(myit))\n",
    "print(next(myit))"
   ]
  },
  {
   "cell_type": "code",
   "execution_count": 125,
   "metadata": {},
   "outputs": [
    {
     "name": "stdout",
     "output_type": "stream",
     "text": [
      "apple\n",
      "banana\n",
      "cherry\n"
     ]
    }
   ],
   "source": [
    "# Looping Through an Iterator\n",
    "\n",
    "mytuple = (\"apple\", \"banana\", \"cherry\")\n",
    "\n",
    "for t in mytuple:\n",
    "  print(t)"
   ]
  },
  {
   "cell_type": "code",
   "execution_count": 14,
   "metadata": {},
   "outputs": [
    {
     "name": "stdout",
     "output_type": "stream",
     "text": [
      "1\n",
      "2\n",
      "3\n",
      "4\n",
      "5\n"
     ]
    }
   ],
   "source": [
    "class MyNumbers:\n",
    "  def __iter__(self):\n",
    "    self.a = 1\n",
    "    return self\n",
    "\n",
    "  def __next__(self):\n",
    "    x = self.a\n",
    "    self.a += 1\n",
    "    return x\n",
    "\n",
    "myclass = MyNumbers()\n",
    "myiter = iter(myclass)\n",
    "\n",
    "print(next(myiter))\n",
    "print(next(myiter))\n",
    "print(next(myiter))\n",
    "print(next(myiter))\n",
    "print(next(myiter))"
   ]
  },
  {
   "cell_type": "code",
   "execution_count": 7,
   "metadata": {},
   "outputs": [
    {
     "name": "stdout",
     "output_type": "stream",
     "text": [
      "1\n",
      "2\n",
      "3\n",
      "4\n",
      "5\n",
      "6\n",
      "7\n",
      "8\n",
      "9\n",
      "10\n",
      "11\n",
      "12\n",
      "13\n",
      "14\n",
      "15\n",
      "16\n",
      "17\n",
      "18\n",
      "19\n",
      "20\n"
     ]
    }
   ],
   "source": [
    "class MyNumbers:          # A Class is like an object constructor, or a \"blueprint\" for creating objects.\n",
    "  def __iter__(self):\n",
    "    self.a = 1\n",
    "    return self\n",
    "\n",
    "  def __next__(self):\n",
    "    if self.a <= 20:\n",
    "      x = self.a\n",
    "      self.a += 1\n",
    "      return x\n",
    "    else:\n",
    "      raise StopIteration\n",
    "\n",
    "myclass = MyNumbers()\n",
    "myiter = iter(myclass)\n",
    "\n",
    "for x in myiter:\n",
    "  print(x)"
   ]
  },
  {
   "cell_type": "code",
   "execution_count": 15,
   "metadata": {},
   "outputs": [
    {
     "name": "stdout",
     "output_type": "stream",
     "text": [
      "Ayorinde\n",
      "0\n",
      "Earth\n"
     ]
    }
   ],
   "source": [
    "class Taiwo:\n",
    "    def __init__(self, name, age, location):      # The __init__() function is called automatically every time the class is being used to create a new object.\n",
    "        self.name = name\n",
    "        self.age = age\n",
    "        self.location = location\n",
    "\n",
    "p1 = Taiwo(\"Ayo\", 0, \"Earth\")\n",
    "print(p1.name)\n",
    "print(p1.age)\n",
    "print(p1.location)"
   ]
  },
  {
   "cell_type": "code",
   "execution_count": 20,
   "metadata": {},
   "outputs": [
    {
     "name": "stdout",
     "output_type": "stream",
     "text": [
      "Hello my name is Ayo\n",
      "I am 0 years old\n"
     ]
    }
   ],
   "source": [
    "class Taiwo:\n",
    "    def __init__(self, name, age):      # The self parameter is a reference to the current instance of the class, and is used to access variables that belong to the class.\n",
    "        self.name = name\n",
    "        self.age = age\n",
    "\n",
    "    def myfunc_2(self):\n",
    "        print(\"Hello my name is \" + str(self.name))\n",
    "        print(\"I am \" + str(self.age) + \" \" + \"years old\")\n",
    "\n",
    "\n",
    "p1 = Taiwo(\"Ayo\", 0)\n",
    "# p1.age = 7    # # Here we tried to modify the attributes in a class \"deleting, replacing\"\n",
    "# p1.name = (\"\")\n",
    "# del p1.age\n",
    "# del p1.name\n",
    "# p1.myfunc  # can be written like this or like below\n",
    "p1.myfunc_2()\n"
   ]
  },
  {
   "cell_type": "code",
   "execution_count": 21,
   "metadata": {},
   "outputs": [
    {
     "name": "stdout",
     "output_type": "stream",
     "text": [
      "I am here with Ayode\n",
      "I am 0 years old\n"
     ]
    }
   ],
   "source": [
    "class Ayo:\n",
    "    def __init__(taiwo, name, age):\n",
    "        taiwo.name = name\n",
    "        taiwo.age = age\n",
    "\n",
    "    # def myfunc(kenny):\n",
    "    def toyin(kenny):         \n",
    "        print(\"I am here with \" + kenny.name)\n",
    "        print(\"I am \" + str(kenny.age) + \" \" + \"years old\")\n",
    "\n",
    "A = Ayo(\"Ayode\", 0)\n",
    "# myfunc(A)  # using my myfunc() will make the child class to inherit the parent properties\n",
    "A.toyin()"
   ]
  },
  {
   "cell_type": "code",
   "execution_count": 22,
   "metadata": {},
   "outputs": [],
   "source": [
    "ages = [3, 5, 64, 66 , 54, 76]\n",
    "\n",
    "def myfunc(x):\n",
    "    if x != 56:\n",
    "        return False\n",
    "    else:\n",
    "        return True\n",
    "\n",
    "adults = filter(myfunc, ages)\n",
    "\n",
    "for x in adults:\n",
    "    print(x)\n",
    "            "
   ]
  },
  {
   "cell_type": "code",
   "execution_count": 167,
   "metadata": {},
   "outputs": [],
   "source": [
    "class Taiwo:\n",
    "    pass                # An empty class with pass function to skip error because a calss can not be empty"
   ]
  },
  {
   "cell_type": "code",
   "execution_count": 24,
   "metadata": {},
   "outputs": [
    {
     "name": "stdout",
     "output_type": "stream",
     "text": [
      "Ayo Owos\n",
      "Welcome Ayo Owos to the class of 2022\n"
     ]
    }
   ],
   "source": [
    "\n",
    "\n",
    "from ast import arg\n",
    "\n",
    "\n",
    "class Taiwo:\n",
    "    def __init__(self, firstname, lastname):\n",
    "        self.firstname = firstname\n",
    "        self.lastname = lastname\n",
    "\n",
    "    def result(self):\n",
    "        print(self.firstname, self.lastname)\n",
    "\n",
    "        #  __init_ is know as initializing and it must always take \"self or a defined attribute of a class first\" e.g def __inti__(id) and \"id\" here is the first attribute needed.\n",
    "\n",
    "        #   Parent class is the class being inherited from, also called \"base class\". \"class Taiwo is the parent class\"\n",
    "\n",
    "        #   Child class is the class that inherits attributes from a parent or another class, also called derived class.\n",
    "\n",
    "        #   Use the Taiwo class to create an object, and then execute the result method.\n",
    "\n",
    "x = Taiwo(\"Ayo\", \"Owos\")   # We passed information to the function parameters \"firstname\" and \"lastname\" using a variable \"x\"\n",
    "x.result()                          #   This doesn't need to take an argument inside \"()\" in the front.\n",
    "\n",
    "# class Ade(Taiwo):                   #   This class called \"Ade\" is the child class that inherits the parent calss properties\n",
    "#     pass\n",
    "#     # def result(self):\n",
    "#     #     print(self.firstname, slef.lastname)\n",
    "# x = Ade(\"Adetolani\", \"Owoade\")\n",
    "# # x.firstname = (\"Yola\")            #   Here we tried to modify the attribute in a class called \"firstname\" by giving it a new value \"Yola\"\n",
    "# # x.result()\n",
    "\n",
    "# class Ade(Taiwo):\n",
    "#     def __init__(self, firstname, lastname, year):  # At this point, when you add the __init__() function to the child class, the child class will no longer inherit the parent's __init__() function.\n",
    "       \n",
    "#         # self.firstname = firstname\n",
    "#         # self.lastname = lastname\n",
    "#         # self.graduationyear = year\n",
    "    \n",
    "#     #  adding properties e.t.c ...                               # The child's __init__() function overrides the inheritance of the parent's __init__() function.\n",
    "        \n",
    "#         Taiwo.__init__(self, firstname, lastname, 2022)        # To keep the inheritance of the parent's __init__() function, adding a call to the parent's __init__() function will make it work.\n",
    "   \n",
    "\n",
    "class Ade(Taiwo):\n",
    "        def __init__(self, firstname, lastname, year):\n",
    "            super().__init__(firstname, lastname)   #   super() function will make the child class inherit all the methods and properties from its parent.\n",
    "            self.graduationyear = year\n",
    "   \n",
    "           \n",
    "# x = Ade(\"Ayo\", \"Owos\", 2022)         #   Adding additional parameter to the child class with inhereitance of his parent attributes\n",
    "# print(x.graduationyear)\n",
    "\n",
    "        def welcome(self):\n",
    "            print(\"Welcome\", self.firstname, self.lastname, \"to the class of\", self.graduationyear)\n",
    "        \n",
    "x = Ade(\"Ayo\", \"Owos\", 2022)         #   Adding additional parameter to the child class with inhereitance of his parent attributes.\n",
    "x.welcome()                                    #    Adding a method called \"welcome\" to the Student class."
   ]
  },
  {
   "cell_type": "code",
   "execution_count": 415,
   "metadata": {},
   "outputs": [
    {
     "name": "stdout",
     "output_type": "stream",
     "text": [
      "1\n"
     ]
    }
   ],
   "source": [
    "\n",
    "\n",
    "# car1 = \"Ford\"\n",
    "# car2 = \"Volvo\"\n",
    "# car3 = \"BMW\"\n",
    " \n",
    "from os import remove\n",
    "\n",
    "\n",
    "cars = [\"Ford\", \"Volvo\", \"BMW\"]         #       An array is a special variable, which can hold more than one value at a time\n",
    "# x = cars[0]\n",
    "# # print(x)\n",
    "\n",
    "# print(len(x))\n",
    "\n",
    "# x = cars.count(\"Ford\")\n",
    "# print(x)\n",
    "\n",
    "# for x in cars:\n",
    "#     for x in \"Statement\":  # looping through an array\n",
    "#         print(x)\n",
    "\n",
    "# cars.pop(1)\n",
    "# print(cars)\n",
    "# cars.remove(\"BWM\")\n",
    "# print(cars)\n",
    "\n",
    "# for element in (cars):\n",
    "#     print(element)\n",
    "\n",
    "# cars.append(\"Toyota\")           # Adds an element at the end of the list\n",
    "# cars.extend([\"Hummer\"])         # Add the elements of anotehr or sperate list (or any iterable), to the end of existing list\n",
    "# y = cars.count(\"BMW\")           # Returns number of times a value re-occure or appear in a list or dict or the number of elements with the specified value\n",
    "# # cars.clear()                  # Removes all the elements from the list -- take no arguments\n",
    "# x = cars.index(\"BMW\")           # Returns the index of the first element with the specified value\n",
    "# print(x)\n",
    "# print(y)\n",
    "\n",
    "# cars.insert(2, \"Hummer\")          # insert()\tAdds an element at the specified position -- arguments(position, value)\n",
    "# cars.reverse()                    # reverse()\tReverses the order of the list\n",
    "# cars.sort()                       # sort()\tSorts the list\n",
    "# cars.remove(\"Ford\")               # remove()\tRemoves the item with the specified value\n",
    "# x = cars.pop()                    # pop()\tRemoves the element at the specified position\n",
    "# print(cars)\n",
    "# print(x)                \n",
    "\n",
    "# x = cars.copy()                    # copy()\tReturns a copy of the list\n",
    "# print(cars)\n",
    "# print(x)\n",
    "\n",
    "#  Python built-in methods that can use on list or arrays\n",
    "\n",
    "# append()\tAdds an element at the end of the list\n",
    "# clear()\tRemoves all the elements from the list\n",
    "# copy()\tReturns a copy of the list\n",
    "# count()\tReturns the number of elements with the specified value\n",
    "# extend()\tAdd the elements of a list (or any iterable), to the end of the current list\n",
    "# index()\tReturns the index of the first element with the specified value\n",
    "# insert()\tAdds an element at the specified position\n",
    "# pop()\tRemoves the element at the specified position\n",
    "# remove()\tRemoves the first item with the specified value\n",
    "# reverse()\tReverses the order of the list\n",
    "# sort()\tSorts the list"
   ]
  },
  {
   "cell_type": "code",
   "execution_count": null,
   "metadata": {},
   "outputs": [],
   "source": [
    "x = 0\n",
    "\n",
    "while x < 20:\n",
    "    if x == 5:\n",
    "        break\n",
    "    print(x)\n",
    "x += 1"
   ]
  },
  {
   "cell_type": "code",
   "execution_count": null,
   "metadata": {},
   "outputs": [],
   "source": [
    "nums = [1, 2, 3, 4, 6, 7, 8, 8]\n",
    "# for num in nums:\n",
    "#     if num == 3:\n",
    "#         print(\"Number 3 found!\")\n",
    "#         continue #  break\n",
    "#     print(num)\n",
    "for num in nums:\n",
    "    for a in \"Statements\":\n",
    "            print(num, a)\n",
    "\n"
   ]
  },
  {
   "cell_type": "code",
   "execution_count": null,
   "metadata": {},
   "outputs": [],
   "source": [
    "nums = [1, 2, 3, 4, 6, 7, 8, 8]\n",
    "for a in range(2, 10):\n",
    "    print(a)"
   ]
  },
  {
   "cell_type": "code",
   "execution_count": null,
   "metadata": {},
   "outputs": [],
   "source": [
    "nums = [1, 2, 3, 4, 6, 7, 8, 8]\n",
    "\n",
    "x = 0\n",
    "while True:             # Ethernal loop without conditions to break out\n",
    "    if x == 5:\n",
    "        break\n",
    "    x += 1\n",
    "    for a in \"Statements\":\n",
    "            print(a, num)\n",
    "   \n",
    "         "
   ]
  },
  {
   "cell_type": "code",
   "execution_count": 483,
   "metadata": {},
   "outputs": [
    {
     "name": "stdout",
     "output_type": "stream",
     "text": [
      "Hello World!\n"
     ]
    }
   ],
   "source": [
    "def hello_func():\n",
    "    print(\"Hello World!\")\n",
    "\n",
    "hello_func()\n",
    "\n",
    "#   Do not repeat ya self... keeping your code dry!! :) Just call on the function instead of repaecting yousrself.\n",
    "\n"
   ]
  },
  {
   "cell_type": "code",
   "execution_count": 487,
   "metadata": {},
   "outputs": [
    {
     "name": "stdout",
     "output_type": "stream",
     "text": [
      "Hello World!\n",
      "HELLO WORLD!\n"
     ]
    }
   ],
   "source": [
    "def hello_func():\n",
    "    return (\"Hello World!\")\n",
    "\n",
    "print(hello_func())\n",
    "\n",
    "print(hello_func().upper())"
   ]
  },
  {
   "cell_type": "code",
   "execution_count": 511,
   "metadata": {},
   "outputs": [
    {
     "name": "stdout",
     "output_type": "stream",
     "text": [
      "Hi, Taiwo.\n",
      "Welcome, You.\n"
     ]
    }
   ],
   "source": [
    "def hello_func(greetings = \"Welcome\", name = \"You\"):        # Passing an arguments into a function  # greetings, name = \"You\" are called keyword arguments\n",
    "    # return '{}, {}'.format(greetings, name)   #  Old style of formating strings    # Action of this arguments is local to the function and doesn't affect the outside variables \n",
    "    return f\"{greetings}, {name}.\"              # New style of formating strings\n",
    "                                                # This \"{}\" is called a placeholder for the arguments to return the argument parameters passed\n",
    "print(hello_func(\"Hi\", name = \"Taiwo\"))         # shows the replaced passed arguments to the orginal    # Required positional argument have to come before your keyword arguement.  \n",
    "print(hello_func())                             # shows orginal arguments of the function\n"
   ]
  },
  {
   "cell_type": "code",
   "execution_count": 25,
   "metadata": {},
   "outputs": [
    {
     "name": "stdout",
     "output_type": "stream",
     "text": [
      "('Math', 'Art')\n",
      "{'name': 'Taiwo', 'age': 0}\n"
     ]
    }
   ],
   "source": [
    "def student_info(*args, **kwargs):  # *args, **kwargs allow us to accept abiturary number of poistional or keyword arguments e.g Positional arg = class, keyword: Random information\n",
    "    print(args)     \n",
    "    print(kwargs)\n",
    "\n",
    "student_info(\"Math\", \"Art\", name=\"Taiwo\", age=0 ) # Math is an example of Positional arg and name, age are keyword args."
   ]
  },
  {
   "cell_type": "code",
   "execution_count": 26,
   "metadata": {},
   "outputs": [
    {
     "name": "stdout",
     "output_type": "stream",
     "text": [
      "('Math', 'Art')\n",
      "{'name': 'Taiwo', 'age': 0}\n"
     ]
    }
   ],
   "source": [
    "\n",
    "def student_info(*args, **kwargs):  # *args, **kwargs allow us to accept abiturary number of poistional or keyword arguments e.g Positional arg = class, keyword: Random information\n",
    "    print(args)     \n",
    "    print(kwargs)\n",
    "\n",
    "courses = [\"Math\", \"Art\"]    # Positional arguments \n",
    "info = {\"name\": \"Taiwo\", \"age\": 0} # keyword arguments\n",
    "\n",
    "# student_info(courses, info)     # Passing our defined above arguments in to our function but without unpacking\n",
    "student_info(*courses, **info)  # Add the * and ** to unpack the parameters or values of our arguments seperately"
   ]
  },
  {
   "cell_type": "code",
   "execution_count": 40,
   "metadata": {},
   "outputs": [
    {
     "name": "stdout",
     "output_type": "stream",
     "text": [
      "False\n",
      "28\n",
      "2\n"
     ]
    }
   ],
   "source": [
    "# Number of days per month. First value placeholder for indexing purporses.\n",
    "from calendar import month\n",
    "\n",
    "month_days = [0, 31, 28, 31, 30, 30, 31, 31, 30, 31, 30, 31]    # List containing number of days, 0 is just a placeholder that is not going to be used only for indexing purpose\n",
    "\n",
    "def is_leap(year):  # This function takes year as argument\n",
    "    \"\"\"Return True for leap years, and False for non-leap years.\"\"\"      # \"\"\" \"\"\" A 'doc string' helps to document what a fucntion is supposed to do within code, just like using '#' to comment\n",
    "\n",
    "    return year / 4 == 0 and (year / 100 != 0 or year / 400 == 0)       # Division / or %\n",
    "\n",
    "def days_in_month(year, month):  # This function takes year and month as arguments\n",
    "    \"\"\"Return number of days in that month in that year.\"\"\"\n",
    "\n",
    "    if not 1 <= month <= 12:    # checking if a month is not within 1 and 12\n",
    "        return \"Invaild Month\"\n",
    "\n",
    "    if month == 2 and is_leap(year):    # checking if the month is feburary and is a leap year using the above \"is_leap\" function\n",
    "        return 29\n",
    "    \n",
    "    return month_days[month]\n",
    "\n",
    "print(is_leap(2017))\n",
    "print(days_in_month(2017, 2))\n",
    "print(month_days.index(28))"
   ]
  },
  {
   "cell_type": "code",
   "execution_count": 39,
   "metadata": {},
   "outputs": [
    {
     "name": "stdout",
     "output_type": "stream",
     "text": [
      "-3\n"
     ]
    }
   ],
   "source": [
    "# importation of modules\n",
    "\n",
    "# print(\"Import my_module...\")\n",
    "\n",
    "test = \"Test string\"\n",
    "\n",
    "def find_index(to_serach, target):\n",
    "    \"\"\"Find the index of a value in a sequence\"\"\"\n",
    "\n",
    "    for a, value in enumerate(to_serach):\n",
    "        if value == target:\n",
    "            return a\n",
    "\n",
    "    return -a\n",
    "\n",
    "test = find_index(to_serach=\"hell\", target=\"hellhyttytytthttyhtytfgythttyo\")\n",
    "print(test)\n",
    "    "
   ]
  },
  {
   "cell_type": "code",
   "execution_count": 2,
   "metadata": {},
   "outputs": [
    {
     "name": "stdout",
     "output_type": "stream",
     "text": [
      "pygame 2.1.2 (SDL 2.0.16, Python 3.10.4)\n",
      "Hello from the pygame community. https://www.pygame.org/contribute.html\n",
      "hello, world\n"
     ]
    }
   ],
   "source": [
    "import pygame\n",
    "# quit()\n",
    "if 10 > 5:\n",
    "    print(\"hello, world\")\n",
    "else:  \n",
    "    print(\"nope\")\n",
    "sammy = 'Sammy'\n",
    "shark = 'Shark'"
   ]
  },
  {
   "cell_type": "code",
   "execution_count": 43,
   "metadata": {},
   "outputs": [
    {
     "name": "stdout",
     "output_type": "stream",
     "text": [
      "<__main__.Person object at 0x7f12f82bb250>\n"
     ]
    }
   ],
   "source": [
    "class Person:\n",
    "  def __init__(self, name, age):\n",
    "    self.name = name\n",
    "    self.age = age\n",
    "\n",
    "p1 = Person(\"John\", 0)\n",
    "\n",
    "print(p1)\n",
    "\n",
    "# The __str__() function controls what should be returned when the class object is represented as a string.\n",
    "# If the __str__() function is not set, the string representation of the object is returned:\n",
    "# OUTPUT: <__main__.Person object at 0x0000020527983220>"
   ]
  },
  {
   "cell_type": "code",
   "execution_count": 41,
   "metadata": {},
   "outputs": [
    {
     "name": "stdout",
     "output_type": "stream",
     "text": [
      "John(0)\n"
     ]
    }
   ],
   "source": [
    "class Person:\n",
    "  def __init__(self, name, age):\n",
    "    self.name = name\n",
    "    self.age = age\n",
    "\n",
    "  def __str__(self):\n",
    "    return f\"{self.name}({self.age})\"\n",
    "\n",
    "p1 = Person(\"John\", 0)\n",
    "\n",
    "print(p1)\n",
    "\n",
    "# The string representation of an object WITH the __str__() function: \n",
    "# OUTPUT: John(0)"
   ]
  },
  {
   "cell_type": "code",
   "execution_count": 42,
   "metadata": {},
   "outputs": [
    {
     "name": "stdout",
     "output_type": "stream",
     "text": [
      "Hello my name is Taiwo\n"
     ]
    }
   ],
   "source": [
    "class Person:\n",
    "    def __init__(self, name, age):\n",
    "        self.name = name\n",
    "        self.age = age\n",
    "\n",
    "    def myfunc(abc):\n",
    "        print(\"Hello my name is \" + abc.name)\n",
    "\n",
    "p1 = Person(\"Taiwo\", 0)\n",
    "p1.myfunc()"
   ]
  }
 ],
 "metadata": {
  "kernelspec": {
   "display_name": "Python 3.11.0rc1 64-bit",
   "language": "python",
   "name": "python3"
  },
  "language_info": {
   "codemirror_mode": {
    "name": "ipython",
    "version": 3
   },
   "file_extension": ".py",
   "mimetype": "text/x-python",
   "name": "python",
   "nbconvert_exporter": "python",
   "pygments_lexer": "ipython3",
   "version": "3.11.0rc1"
  },
  "orig_nbformat": 4,
  "vscode": {
   "interpreter": {
    "hash": "ead1b95f633dc9c51826328e1846203f51a198c6fb5f2884a80417ba131d4e82"
   }
  }
 },
 "nbformat": 4,
 "nbformat_minor": 2
}
